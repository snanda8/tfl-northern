{
 "cells": [
  {
   "cell_type": "code",
   "execution_count": 11,
   "id": "db1a4804-f04c-4913-ba56-32389d423484",
   "metadata": {},
   "outputs": [
    {
     "name": "stdout",
     "output_type": "stream",
     "text": [
      "  Financial Year  Period Bakerloo  Central      C&H District  Jubilee  \\\n",
      "0        2016-17     1.0  112,578  477,818  192,065  214,682  247,373   \n",
      "1        2016-17     2.0   76,720  458,195  154,797  169,790  199,036   \n",
      "2        2016-17     3.0  112,550  496,322  229,491  291,150  228,329   \n",
      "3        2016-17     4.0  101,499  798,680  268,184  170,682  235,013   \n",
      "4        2016-17     5.0   96,403  477,322  223,574  165,369  225,339   \n",
      "\n",
      "  Metropolitan Northern Piccadilly Victoria Waterloo & City    Network  \n",
      "0       89,559  207,184    125,575  159,153          18,615  1,844,602  \n",
      "1       96,922  216,041    121,990  152,276           2,559  1,648,326  \n",
      "2      187,294  196,815    161,332  190,018          13,361  2,106,662  \n",
      "3      182,506  176,183    162,980  393,877           4,043  2,493,647  \n",
      "4      147,445  273,465    200,244  205,436           7,379  2,021,978  \n"
     ]
    }
   ],
   "source": [
    "import pandas as pd\n",
    "import matplotlib \n",
    "\n",
    "\n",
    "\n",
    "\n",
    "df =pd.read_csv(\"C:/Users/sarth/tfl-northern/raw_data/lost-customer-hours.csv\")\n",
    "\n",
    "print(df.head())\n",
    "\n"
   ]
  },
  {
   "cell_type": "code",
   "execution_count": 10,
   "id": "c16d3d52-5fd1-45b2-a9b5-a19bef6da28c",
   "metadata": {},
   "outputs": [
    {
     "name": "stdout",
     "output_type": "stream",
     "text": [
      "C:\\Users\\sarth\\tfl-northern\\notebooks\n"
     ]
    }
   ],
   "source": [
    "import os\n",
    "print(os.getcwd())"
   ]
  },
  {
   "cell_type": "code",
   "execution_count": 13,
   "id": "98e86943-43d8-4c90-8143-5bba6f69a4fa",
   "metadata": {},
   "outputs": [
    {
     "name": "stdout",
     "output_type": "stream",
     "text": [
      "<class 'pandas.core.frame.DataFrame'>\n",
      "RangeIndex: 52 entries, 0 to 51\n",
      "Data columns (total 13 columns):\n",
      " #   Column           Non-Null Count  Dtype  \n",
      "---  ------           --------------  -----  \n",
      " 0   Financial Year   51 non-null     object \n",
      " 1   Period           51 non-null     float64\n",
      " 2   Bakerloo         51 non-null     object \n",
      " 3   Central          51 non-null     object \n",
      " 4   C&H              51 non-null     object \n",
      " 5   District         51 non-null     object \n",
      " 6   Jubilee          51 non-null     object \n",
      " 7   Metropolitan     51 non-null     object \n",
      " 8   Northern         51 non-null     object \n",
      " 9   Piccadilly       51 non-null     object \n",
      " 10  Victoria         51 non-null     object \n",
      " 11  Waterloo & City  51 non-null     object \n",
      " 12  Network          51 non-null     object \n",
      "dtypes: float64(1), object(12)\n",
      "memory usage: 5.4+ KB\n",
      "None\n",
      "Index(['Financial Year', 'Period', 'Bakerloo', 'Central', 'C&H', 'District',\n",
      "       'Jubilee', 'Metropolitan', 'Northern', 'Piccadilly', 'Victoria',\n",
      "       'Waterloo & City', 'Network'],\n",
      "      dtype='object')\n"
     ]
    }
   ],
   "source": [
    "import pandas as pd\n",
    "import matplotlib \n",
    "\n",
    "\n",
    "\n",
    "\n",
    "df =pd.read_csv(\"C:/Users/sarth/tfl-northern/raw_data/lost-customer-hours.csv\")\n",
    "\n",
    "print(df.info())\n",
    "print(df.columns)"
   ]
  },
  {
   "cell_type": "code",
   "execution_count": 5,
   "id": "0967e9f8-5981-46fb-8721-c99e138f8abf",
   "metadata": {},
   "outputs": [
    {
     "name": "stdout",
     "output_type": "stream",
     "text": [
      "<class 'pandas.core.frame.DataFrame'>\n",
      "RangeIndex: 52 entries, 0 to 51\n",
      "Data columns (total 3 columns):\n",
      " #   Column          Non-Null Count  Dtype  \n",
      "---  ------          --------------  -----  \n",
      " 0   Financial Year  51 non-null     object \n",
      " 1   Period          51 non-null     float64\n",
      " 2   Northern        51 non-null     object \n",
      "dtypes: float64(1), object(2)\n",
      "memory usage: 1.3+ KB\n"
     ]
    }
   ],
   "source": [
    "import pandas as pd\n",
    "import matplotlib \n",
    "\n",
    "\n",
    "\n",
    "\n",
    "df =pd.read_csv(\"C:/Users/sarth/tfl-northern/raw_data/lost-customer-hours.csv\")\n",
    "northern_df = df[[\"Financial Year\", \"Period\", \"Northern\"]]\n",
    "northern_df.head()\n",
    "northern_df.info()"
   ]
  },
  {
   "cell_type": "code",
   "execution_count": 13,
   "id": "2f082960-4709-4c5c-8841-ef50e5b198c6",
   "metadata": {},
   "outputs": [
    {
     "name": "stdout",
     "output_type": "stream",
     "text": [
      "<class 'pandas.core.frame.DataFrame'>\n",
      "RangeIndex: 52 entries, 0 to 51\n",
      "Data columns (total 3 columns):\n",
      " #   Column          Non-Null Count  Dtype  \n",
      "---  ------          --------------  -----  \n",
      " 0   Financial Year  51 non-null     object \n",
      " 1   Period          51 non-null     float64\n",
      " 2   Northern        51 non-null     float64\n",
      "dtypes: float64(2), object(1)\n",
      "memory usage: 1.3+ KB\n"
     ]
    }
   ],
   "source": [
    "import pandas as pd\n",
    "import matplotlib \n",
    "\n",
    "df =pd.read_csv(\"C:/Users/sarth/tfl-northern/raw_data/lost-customer-hours.csv\")\n",
    "df[\"Northern\"] = df[\"Northern\"].str.replace(',', '').astype(float)\n",
    "df[\"Northern\"] = pd.to_numeric(df[\"Northern\"])\n",
    "northern_df = df[[\"Financial Year\", \"Period\", \"Northern\"]]\n",
    "\n",
    "\n",
    "northern_df.info()"
   ]
  },
  {
   "cell_type": "code",
   "execution_count": null,
   "id": "09764806-773e-45c6-beae-3fd9dfe3f45f",
   "metadata": {},
   "outputs": [],
   "source": []
  }
 ],
 "metadata": {
  "kernelspec": {
   "display_name": "Python [conda env:base] *",
   "language": "python",
   "name": "conda-base-py"
  },
  "language_info": {
   "codemirror_mode": {
    "name": "ipython",
    "version": 3
   },
   "file_extension": ".py",
   "mimetype": "text/x-python",
   "name": "python",
   "nbconvert_exporter": "python",
   "pygments_lexer": "ipython3",
   "version": "3.11.5"
  }
 },
 "nbformat": 4,
 "nbformat_minor": 5
}
